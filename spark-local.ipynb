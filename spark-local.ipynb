{
 "cells": [
  {
   "cell_type": "code",
   "execution_count": 1,
   "metadata": {},
   "outputs": [
    {
     "name": "stderr",
     "output_type": "stream",
     "text": [
      "23/06/20 10:15:37 WARN Utils: Your hostname, ducdn resolves to a loopback address: 127.0.1.1; using 10.1.124.58 instead (on interface enp1s0)\n",
      "23/06/20 10:15:37 WARN Utils: Set SPARK_LOCAL_IP if you need to bind to another address\n"
     ]
    },
    {
     "name": "stdout",
     "output_type": "stream",
     "text": [
      ":: loading settings :: url = jar:file:/home/ducdn/Documents/spark/jars/ivy-2.4.0.jar!/org/apache/ivy/core/settings/ivysettings.xml\n"
     ]
    },
    {
     "name": "stderr",
     "output_type": "stream",
     "text": [
      "Ivy Default Cache set to: /home/ducdn/.ivy2/cache\n",
      "The jars for the packages stored in: /home/ducdn/.ivy2/jars\n",
      "org.apache.hudi#hudi-spark3.1-bundle_2.12 added as a dependency\n",
      ":: resolving dependencies :: org.apache.spark#spark-submit-parent-a6665dc5-8363-4e01-8df5-02b1eb6d9725;1.0\n",
      "\tconfs: [default]\n",
      "\tfound org.apache.hudi#hudi-spark3.1-bundle_2.12;0.13.0 in central\n",
      ":: resolution report :: resolve 321ms :: artifacts dl 12ms\n",
      "\t:: modules in use:\n",
      "\torg.apache.hudi#hudi-spark3.1-bundle_2.12;0.13.0 from central in [default]\n",
      "\t---------------------------------------------------------------------\n",
      "\t|                  |            modules            ||   artifacts   |\n",
      "\t|       conf       | number| search|dwnlded|evicted|| number|dwnlded|\n",
      "\t---------------------------------------------------------------------\n",
      "\t|      default     |   1   |   0   |   0   |   0   ||   1   |   0   |\n",
      "\t---------------------------------------------------------------------\n",
      ":: retrieving :: org.apache.spark#spark-submit-parent-a6665dc5-8363-4e01-8df5-02b1eb6d9725\n",
      "\tconfs: [default]\n",
      "\t0 artifacts copied, 1 already retrieved (0kB/3ms)\n",
      "23/06/20 10:15:38 WARN NativeCodeLoader: Unable to load native-hadoop library for your platform... using builtin-java classes where applicable\n",
      "Using Spark's default log4j profile: org/apache/spark/log4j-defaults.properties\n",
      "Setting default log level to \"WARN\".\n",
      "To adjust logging level use sc.setLogLevel(newLevel). For SparkR, use setLogLevel(newLevel).\n",
      "23/06/20 10:15:41 WARN Utils: Service 'SparkUI' could not bind on port 4040. Attempting port 4041.\n",
      "23/06/20 10:15:41 WARN Utils: Service 'SparkUI' could not bind on port 4041. Attempting port 4042.\n"
     ]
    }
   ],
   "source": [
    "from pyspark import SparkConf\n",
    "from pyspark.sql import SparkSession\n",
    "from pyspark.sql.types import StringType, DoubleType, IntegerType\n",
    "from pyspark.sql.functions import sum as _sum, avg, expr, window, from_unixtime, col\n",
    "\n",
    "from pyspark.sql import SparkSession\n",
    "from pyspark.sql.functions import *\n",
    "from pyspark.sql.types import StructType, StructField, StringType, TimestampType\n",
    "import time, datetime\n",
    "import os\n",
    "import random\n",
    "import uuid\n",
    "\n",
    "spark = (\n",
    "        SparkSession.builder.appName(\"spark application\")\n",
    "        .config(\n",
    "            \"spark.jars.packages\",\n",
    "            \"org.apache.hudi:hudi-spark3.1-bundle_2.12:0.13.0\",\n",
    "        )\n",
    "        .config(\n",
    "            \"spark.sql.extensions\",\n",
    "            \"org.apache.spark.sql.hudi.HoodieSparkSessionExtension\",\n",
    "        )\n",
    "        .config(\"spark.serializer\", \"org.apache.spark.serializer.KryoSerializer\")\n",
    "        .config(\n",
    "            \"spark.hadoop.fs.s3a.impl\", \"org.apache.hadoop.fs.s3a.S3AFileSystem\"\n",
    "        )\n",
    "        # .config(\"spark.hadoop.fs.s3a.access.key\", \"minioadmin\")\n",
    "        # .config(\"spark.hadoop.fs.s3a.secret.key\", \"minioadmin\")\n",
    "        # .config(\"spark.hadoop.fs.s3a.endpoint\", \"http://10.159.37.34:9000\")\n",
    "        .config(\"spark.hadoop.fs.s3a.path.style.access\", \"true\")\n",
    "        .config(\"spark.hadoop.fs.s3a.connection.ssl.enabled\", \"false\")\n",
    "        .config(\n",
    "            \"spark.hadoop.fs.s3a.aws.credentials.provider\",\n",
    "            \"org.apache.hadoop.fs.s3a.SimpleAWSCredentialsProvider\",\n",
    "        )\n",
    "        .config(\"spark.hadoop.fs.s3a.connection.maximum\", \"1000\")\n",
    "        .getOrCreate()\n",
    "    )"
   ]
  },
  {
   "cell_type": "code",
   "execution_count": 2,
   "metadata": {},
   "outputs": [],
   "source": [
    "hudi_path = \"/home/ducdn/Desktop/workspace/hudi_mor/hudi_mor\""
   ]
  },
  {
   "attachments": {},
   "cell_type": "markdown",
   "metadata": {},
   "source": [
    "#### Snapshot"
   ]
  },
  {
   "cell_type": "code",
   "execution_count": 3,
   "metadata": {},
   "outputs": [
    {
     "name": "stderr",
     "output_type": "stream",
     "text": [
      "23/06/20 10:17:11 WARN DFSPropertiesConfiguration: Cannot find HUDI_CONF_DIR, please set it as the dir of hudi-defaults.conf\n",
      "23/06/20 10:17:11 WARN DFSPropertiesConfiguration: Properties file file:/etc/hudi/conf/hudi-defaults.conf not found. Ignoring to load props file\n",
      "                                                                                \r"
     ]
    },
    {
     "name": "stdout",
     "output_type": "stream",
     "text": [
      "+-------------------+--------------------+--------------------+----------------------+--------------------+--------------------+----------+----------+---------+\n",
      "|_hoodie_commit_time|_hoodie_commit_seqno|  _hoodie_record_key|_hoodie_partition_path|   _hoodie_file_name|                  id|     value| timestamp|partition|\n",
      "+-------------------+--------------------+--------------------+----------------------+--------------------+--------------------+----------+----------+---------+\n",
      "|  20230620100055605|20230620100055605...|be851e8f-1ee1-435...|                     2|6ef76c77-4382-4f7...|be851e8f-1ee1-435...|    195634|1687230054|        2|\n",
      "|  20230620100109116|20230620100109116...|9ee8972b-91ad-433...|                     2|6ef76c77-4382-4f7...|9ee8972b-91ad-433...|    577525|1687230068|        2|\n",
      "|  20230620100544485|20230620100544485...|965e97b6-c5d7-47b...|                     2|6ef76c77-4382-4f7...|965e97b6-c5d7-47b...|  11223344|1687230344|        2|\n",
      "|  20230620100234418|20230620100234418...|a2714ca3-0267-4aa...|                     2|6ef76c77-4382-4f7...|a2714ca3-0267-4aa...|    801593|1687230154|        2|\n",
      "|  20230620100749987|20230620100749987...|fd6be044-0e71-426...|                     2|6ef76c77-4382-4f7...|fd6be044-0e71-426...| 123456789|1687230469|        2|\n",
      "|  20230620100234418|20230620100234418...|e6790a90-672c-4eb...|                     2|6ef76c77-4382-4f7...|e6790a90-672c-4eb...|    903444|1687230154|        2|\n",
      "|  20230620101154980|20230620101154980...|fd6be044-0e71-426...|                     2|702c67b6-1e5f-490...|fd6be044-0e71-426...|9879756543|1687230714|        2|\n",
      "|  20230620100055605|20230620100055605...|8989e5b9-2ca5-4a8...|                     1|c0efbf50-d9b2-417...|8989e5b9-2ca5-4a8...|    767664|1687230054|        1|\n",
      "|  20230620100109116|20230620100109116...|afa3a06f-31f6-4e8...|                     1|c0efbf50-d9b2-417...|afa3a06f-31f6-4e8...|     48365|1687230068|        1|\n",
      "|  20230620100122298|20230620100122298...|0a00c3a2-f2e2-46f...|                     1|c0efbf50-d9b2-417...|0a00c3a2-f2e2-46f...|    658880|1687230081|        1|\n",
      "|  20230620100055605|20230620100055605...|2d03e799-af19-448...|                     3|076ad2ab-de6e-4ea...|2d03e799-af19-448...|    754587|1687230054|        3|\n",
      "|  20230620100109116|20230620100109116...|6572002a-9ec4-413...|                     3|076ad2ab-de6e-4ea...|6572002a-9ec4-413...|    436250|1687230068|        3|\n",
      "|  20230620100122298|20230620100122298...|e5a90d29-40f6-418...|                     3|076ad2ab-de6e-4ea...|e5a90d29-40f6-418...|      2292|1687230081|        3|\n",
      "+-------------------+--------------------+--------------------+----------------------+--------------------+--------------------+----------+----------+---------+\n",
      "\n"
     ]
    }
   ],
   "source": [
    "df = spark.read.format(\"hudi\").load(hudi_path)\n",
    "df.show()"
   ]
  },
  {
   "cell_type": "code",
   "execution_count": 4,
   "metadata": {},
   "outputs": [
    {
     "name": "stdout",
     "output_type": "stream",
     "text": [
      "+-------------------+--------------------+--------------------+----------------------+--------------------+--------------------+----------+----------+---------+\n",
      "|_hoodie_commit_time|_hoodie_commit_seqno|  _hoodie_record_key|_hoodie_partition_path|   _hoodie_file_name|                  id|     value| timestamp|partition|\n",
      "+-------------------+--------------------+--------------------+----------------------+--------------------+--------------------+----------+----------+---------+\n",
      "|  20230620100055605|20230620100055605...|8989e5b9-2ca5-4a8...|                     1|c0efbf50-d9b2-417...|8989e5b9-2ca5-4a8...|    767664|1687230054|        1|\n",
      "|  20230620100055605|20230620100055605...|be851e8f-1ee1-435...|                     2|6ef76c77-4382-4f7...|be851e8f-1ee1-435...|    195634|1687230054|        2|\n",
      "|  20230620100055605|20230620100055605...|2d03e799-af19-448...|                     3|076ad2ab-de6e-4ea...|2d03e799-af19-448...|    754587|1687230054|        3|\n",
      "|  20230620100109116|20230620100109116...|afa3a06f-31f6-4e8...|                     1|c0efbf50-d9b2-417...|afa3a06f-31f6-4e8...|     48365|1687230068|        1|\n",
      "|  20230620100109116|20230620100109116...|6572002a-9ec4-413...|                     3|076ad2ab-de6e-4ea...|6572002a-9ec4-413...|    436250|1687230068|        3|\n",
      "|  20230620100109116|20230620100109116...|9ee8972b-91ad-433...|                     2|6ef76c77-4382-4f7...|9ee8972b-91ad-433...|    577525|1687230068|        2|\n",
      "|  20230620100122298|20230620100122298...|0a00c3a2-f2e2-46f...|                     1|c0efbf50-d9b2-417...|0a00c3a2-f2e2-46f...|    658880|1687230081|        1|\n",
      "|  20230620100122298|20230620100122298...|e5a90d29-40f6-418...|                     3|076ad2ab-de6e-4ea...|e5a90d29-40f6-418...|      2292|1687230081|        3|\n",
      "|  20230620100234418|20230620100234418...|a2714ca3-0267-4aa...|                     2|6ef76c77-4382-4f7...|a2714ca3-0267-4aa...|    801593|1687230154|        2|\n",
      "|  20230620100234418|20230620100234418...|e6790a90-672c-4eb...|                     2|6ef76c77-4382-4f7...|e6790a90-672c-4eb...|    903444|1687230154|        2|\n",
      "|  20230620100544485|20230620100544485...|965e97b6-c5d7-47b...|                     2|6ef76c77-4382-4f7...|965e97b6-c5d7-47b...|  11223344|1687230344|        2|\n",
      "|  20230620100749987|20230620100749987...|fd6be044-0e71-426...|                     2|6ef76c77-4382-4f7...|fd6be044-0e71-426...| 123456789|1687230469|        2|\n",
      "|  20230620101154980|20230620101154980...|fd6be044-0e71-426...|                     2|702c67b6-1e5f-490...|fd6be044-0e71-426...|9879756543|1687230714|        2|\n",
      "+-------------------+--------------------+--------------------+----------------------+--------------------+--------------------+----------+----------+---------+\n",
      "\n"
     ]
    }
   ],
   "source": [
    "df.createOrReplaceTempView(\"hudi_sn\")\n",
    "spark.sql(\"select * from hudi_sn order by _hoodie_commit_time\").show()"
   ]
  },
  {
   "attachments": {},
   "cell_type": "markdown",
   "metadata": {},
   "source": [
    "#### Incremental query"
   ]
  },
  {
   "cell_type": "code",
   "execution_count": 17,
   "metadata": {},
   "outputs": [
    {
     "name": "stdout",
     "output_type": "stream",
     "text": [
      "+-------------------+---------------------+------------------------------------+----------------------+----------------------------------------------------------------------------+------------------------------------+----------+----------+---------+\n",
      "|_hoodie_commit_time|_hoodie_commit_seqno |_hoodie_record_key                  |_hoodie_partition_path|_hoodie_file_name                                                           |id                                  |value     |timestamp |partition|\n",
      "+-------------------+---------------------+------------------------------------+----------------------+----------------------------------------------------------------------------+------------------------------------+----------+----------+---------+\n",
      "|20230620100109116  |20230620100109116_1_1|9ee8972b-91ad-4331-bb82-0138f1187bcc|2                     |6ef76c77-4382-4f70-9891-641bfeb27131-0_0-1358-2753_20230620101158263.parquet|9ee8972b-91ad-4331-bb82-0138f1187bcc|577525    |1687230068|2        |\n",
      "|20230620100109116  |20230620100109116_2_1|6572002a-9ec4-413b-a944-3c922d0779ff|3                     |076ad2ab-de6e-4ea6-839b-b605be6207ad-0_2-1124-2345_20230620100122298.parquet|6572002a-9ec4-413b-a944-3c922d0779ff|436250    |1687230068|3        |\n",
      "|20230620100109116  |20230620100109116_0_1|afa3a06f-31f6-4e81-a032-5f9dc319d556|1                     |c0efbf50-d9b2-4172-b23a-c71661a57312-0_0-1124-2343_20230620100122298.parquet|afa3a06f-31f6-4e81-a032-5f9dc319d556|48365     |1687230068|1        |\n",
      "|20230620100122298  |20230620100122298_2_2|e5a90d29-40f6-4186-94a9-0592c2b82b68|3                     |076ad2ab-de6e-4ea6-839b-b605be6207ad-0_2-1124-2345_20230620100122298.parquet|e5a90d29-40f6-4186-94a9-0592c2b82b68|2292      |1687230081|3        |\n",
      "|20230620100122298  |20230620100122298_0_2|0a00c3a2-f2e2-46f2-b0a0-df176b891d0b|1                     |c0efbf50-d9b2-4172-b23a-c71661a57312-0_0-1124-2343_20230620100122298.parquet|0a00c3a2-f2e2-46f2-b0a0-df176b891d0b|658880    |1687230081|1        |\n",
      "|20230620100234418  |20230620100234418_0_3|a2714ca3-0267-4aad-947f-40ecf51bb987|2                     |6ef76c77-4382-4f70-9891-641bfeb27131-0_0-1358-2753_20230620101158263.parquet|a2714ca3-0267-4aad-947f-40ecf51bb987|801593    |1687230154|2        |\n",
      "|20230620100234418  |20230620100234418_0_5|e6790a90-672c-4eb2-ba86-bf6d2e8782f6|2                     |6ef76c77-4382-4f70-9891-641bfeb27131-0_0-1358-2753_20230620101158263.parquet|e6790a90-672c-4eb2-ba86-bf6d2e8782f6|903444    |1687230154|2        |\n",
      "|20230620100544485  |20230620100544485_0_2|965e97b6-c5d7-47b3-8214-1a4a57f7322c|2                     |6ef76c77-4382-4f70-9891-641bfeb27131-0_0-1358-2753_20230620101158263.parquet|965e97b6-c5d7-47b3-8214-1a4a57f7322c|11223344  |1687230344|2        |\n",
      "|20230620100749987  |20230620100749987_0_3|fd6be044-0e71-4268-b9ae-8ac0a53e0f7b|2                     |6ef76c77-4382-4f70-9891-641bfeb27131-0_0-1358-2753_20230620101158263.parquet|fd6be044-0e71-4268-b9ae-8ac0a53e0f7b|123456789 |1687230469|2        |\n",
      "|20230620101154980  |20230620101154980_0_4|fd6be044-0e71-4268-b9ae-8ac0a5sdfsd |2                     |702c67b6-1e5f-4900-aa26-c4206677e1f1-0_1-1358-2754_20230620101158263.parquet|fd6be044-0e71-4268-b9ae-8ac0a5sdfsd |9879756543|1687230714|2        |\n",
      "+-------------------+---------------------+------------------------------------+----------------------+----------------------------------------------------------------------------+------------------------------------+----------+----------+---------+\n",
      "\n"
     ]
    }
   ],
   "source": [
    "# Cấu hình truy vấn incremental\n",
    "incrementalOptions = {\n",
    "    \"hoodie.datasource.query.type\": \"incremental\",\n",
    "    \"hoodie.datasource.read.begin.instanttime\": \"20230620100055605\",\n",
    "    # \"hoodie.datasource.read.end.instanttime\": \"20230620100109120\"\n",
    "    # \"hoodie.datasource.read.partition.path\": \"/year=2020/month=*/day=*\"  # Tuỳ chọn, sử dụng glob pattern nếu truy vấn các phân vùng cụ thể\n",
    "}\n",
    "\n",
    "hudiIncQueryDF = spark.read \\\n",
    "    .format(\"org.apache.hudi\") \\\n",
    "    .options(**incrementalOptions) \\\n",
    "    .load(hudi_path)\n",
    "\n",
    "hudiIncQueryDF.createOrReplaceTempView(\"hudi_incre\")\n",
    "spark.sql(\"select * from hudi_incre order by _hoodie_commit_time\").show(truncate=False)"
   ]
  },
  {
   "attachments": {},
   "cell_type": "markdown",
   "metadata": {},
   "source": [
    "#### Timetravel query"
   ]
  },
  {
   "cell_type": "code",
   "execution_count": 21,
   "metadata": {},
   "outputs": [
    {
     "name": "stdout",
     "output_type": "stream",
     "text": [
      "+-------------------+--------------------+--------------------+----------------------+--------------------+--------------------+------+----------+---------+\n",
      "|_hoodie_commit_time|_hoodie_commit_seqno|  _hoodie_record_key|_hoodie_partition_path|   _hoodie_file_name|                  id| value| timestamp|partition|\n",
      "+-------------------+--------------------+--------------------+----------------------+--------------------+--------------------+------+----------+---------+\n",
      "|  20230620100055605|20230620100055605...|be851e8f-1ee1-435...|                     2|6ef76c77-4382-4f7...|be851e8f-1ee1-435...|195634|1687230054|        2|\n",
      "|  20230620100055605|20230620100055605...|2d03e799-af19-448...|                     3|076ad2ab-de6e-4ea...|2d03e799-af19-448...|754587|1687230054|        3|\n",
      "+-------------------+--------------------+--------------------+----------------------+--------------------+--------------------+------+----------+---------+\n",
      "\n"
     ]
    }
   ],
   "source": [
    "df = spark.read.format(\"hudi\").option(\"as.of.instant\",\"20230620100055605\").load(hudi_path)\n",
    "df.show()"
   ]
  },
  {
   "attachments": {},
   "cell_type": "markdown",
   "metadata": {},
   "source": [
    "#### Snapshot after cleaning"
   ]
  },
  {
   "cell_type": "code",
   "execution_count": 19,
   "metadata": {},
   "outputs": [
    {
     "name": "stdout",
     "output_type": "stream",
     "text": [
      "+-------------------+--------------------+--------------------+----------------------+--------------------+--------------------+----------+----------+---------+\n",
      "|_hoodie_commit_time|_hoodie_commit_seqno|  _hoodie_record_key|_hoodie_partition_path|   _hoodie_file_name|                  id|     value| timestamp|partition|\n",
      "+-------------------+--------------------+--------------------+----------------------+--------------------+--------------------+----------+----------+---------+\n",
      "|  20230620100055605|20230620100055605...|be851e8f-1ee1-435...|                     2|6ef76c77-4382-4f7...|be851e8f-1ee1-435...|    195634|1687230054|        2|\n",
      "|  20230620100055605|20230620100055605...|2d03e799-af19-448...|                     3|076ad2ab-de6e-4ea...|2d03e799-af19-448...|    754587|1687230054|        3|\n",
      "|  20230620100055605|20230620100055605...|8989e5b9-2ca5-4a8...|                     1|c0efbf50-d9b2-417...|8989e5b9-2ca5-4a8...|    767664|1687230054|        1|\n",
      "|  20230620100109116|20230620100109116...|6572002a-9ec4-413...|                     3|076ad2ab-de6e-4ea...|6572002a-9ec4-413...|    436250|1687230068|        3|\n",
      "|  20230620100109116|20230620100109116...|9ee8972b-91ad-433...|                     2|6ef76c77-4382-4f7...|9ee8972b-91ad-433...|    577525|1687230068|        2|\n",
      "|  20230620100109116|20230620100109116...|afa3a06f-31f6-4e8...|                     1|c0efbf50-d9b2-417...|afa3a06f-31f6-4e8...|     48365|1687230068|        1|\n",
      "|  20230620100122298|20230620100122298...|0a00c3a2-f2e2-46f...|                     1|c0efbf50-d9b2-417...|0a00c3a2-f2e2-46f...|    658880|1687230081|        1|\n",
      "|  20230620100122298|20230620100122298...|e5a90d29-40f6-418...|                     3|076ad2ab-de6e-4ea...|e5a90d29-40f6-418...|      2292|1687230081|        3|\n",
      "|  20230620100234418|20230620100234418...|a2714ca3-0267-4aa...|                     2|6ef76c77-4382-4f7...|a2714ca3-0267-4aa...|    801593|1687230154|        2|\n",
      "|  20230620100234418|20230620100234418...|e6790a90-672c-4eb...|                     2|6ef76c77-4382-4f7...|e6790a90-672c-4eb...|    903444|1687230154|        2|\n",
      "|  20230620100544485|20230620100544485...|965e97b6-c5d7-47b...|                     2|6ef76c77-4382-4f7...|965e97b6-c5d7-47b...|  11223344|1687230344|        2|\n",
      "|  20230620100749987|20230620100749987...|fd6be044-0e71-426...|                     2|6ef76c77-4382-4f7...|fd6be044-0e71-426...| 123456789|1687230469|        2|\n",
      "|  20230620101154980|20230620101154980...|fd6be044-0e71-426...|                     2|702c67b6-1e5f-490...|fd6be044-0e71-426...|9879756543|1687230714|        2|\n",
      "|  20230620102901073|20230620102901073...|fd6be044-0e71-426...|                     2|702c67b6-1e5f-490...|fd6be044-0e71-426...|    210601|1687231741|        2|\n",
      "|  20230620103245014|20230620103245014...|2b6eb20c-044b-4a3...|                     3|076ad2ab-de6e-4ea...|2b6eb20c-044b-4a3...|    477753|1687231964|        3|\n",
      "|  20230620103245014|20230620103245014...|7b1d1ccc-66bc-41d...|                     3|076ad2ab-de6e-4ea...|7b1d1ccc-66bc-41d...|    538720|1687231964|        3|\n",
      "|  20230620103258519|20230620103258519...|b20e10dc-dab7-418...|                     3|076ad2ab-de6e-4ea...|b20e10dc-dab7-418...|    690015|1687231978|        3|\n",
      "|  20230620103258519|20230620103258519...|606f3d4b-8b6d-4c4...|                     1|c0efbf50-d9b2-417...|606f3d4b-8b6d-4c4...|    701527|1687231978|        1|\n",
      "|  20230620103310700|20230620103310700...|e8f0441e-5da0-4af...|                     1|c0efbf50-d9b2-417...|e8f0441e-5da0-4af...|    221419|1687231990|        1|\n",
      "|  20230620103310700|20230620103310700...|451d9d00-874a-4b5...|                     3|076ad2ab-de6e-4ea...|451d9d00-874a-4b5...|    417840|1687231990|        3|\n",
      "|  20230620103310700|20230620103310700...|a83f58d2-152b-40c...|                     3|076ad2ab-de6e-4ea...|a83f58d2-152b-40c...|    621017|1687231990|        3|\n",
      "|  20230620103322988|20230620103322988...|d990a34d-d67f-49c...|                     1|c0efbf50-d9b2-417...|d990a34d-d67f-49c...|    873532|1687232002|        1|\n",
      "|  20230620103335399|20230620103335399...|391cd4e0-ba92-449...|                     1|c0efbf50-d9b2-417...|391cd4e0-ba92-449...|    516601|1687232015|        1|\n",
      "|  20230620103335399|20230620103335399...|d16dec26-d77c-408...|                     1|c0efbf50-d9b2-417...|d16dec26-d77c-408...|    771380|1687232015|        1|\n",
      "|  20230620103347708|20230620103347708...|26f5c8a6-acfb-482...|                     1|c0efbf50-d9b2-417...|26f5c8a6-acfb-482...|    612651|1687232027|        1|\n",
      "|  20230620103347708|20230620103347708...|ace84f66-f250-432...|                     1|c0efbf50-d9b2-417...|ace84f66-f250-432...|    847237|1687232027|        1|\n",
      "|  20230620103400564|20230620103400564...|5cf4d56d-2e3c-454...|                     1|c0efbf50-d9b2-417...|5cf4d56d-2e3c-454...|    226193|1687232040|        1|\n",
      "|  20230620103400564|20230620103400564...|3b7d1a7e-01a2-4c1...|                     1|c0efbf50-d9b2-417...|3b7d1a7e-01a2-4c1...|    792346|1687232040|        1|\n",
      "|  20230620103531901|20230620103531901...|fd6be044-0e71-426...|                     2|702c67b6-1e5f-490...|fd6be044-0e71-426...|      3306|1687232131|        2|\n",
      "+-------------------+--------------------+--------------------+----------------------+--------------------+--------------------+----------+----------+---------+\n",
      "\n"
     ]
    }
   ],
   "source": [
    "df = spark.read.format(\"hudi\").load(hudi_path)\n",
    "df.createOrReplaceTempView(\"hudi_sn\")\n",
    "spark.sql(\"select * from hudi_sn order by _hoodie_commit_time\").show(n=100)"
   ]
  }
 ],
 "metadata": {
  "kernelspec": {
   "display_name": "Python 3",
   "language": "python",
   "name": "python3"
  },
  "language_info": {
   "codemirror_mode": {
    "name": "ipython",
    "version": 3
   },
   "file_extension": ".py",
   "mimetype": "text/x-python",
   "name": "python",
   "nbconvert_exporter": "python",
   "pygments_lexer": "ipython3",
   "version": "3.10.6"
  },
  "orig_nbformat": 4
 },
 "nbformat": 4,
 "nbformat_minor": 2
}

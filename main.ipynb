{
 "cells": [
  {
   "cell_type": "code",
   "execution_count": 2,
   "metadata": {},
   "outputs": [
    {
     "name": "stderr",
     "output_type": "stream",
     "text": [
      "23/06/19 16:19:57 WARN Utils: Your hostname, ducdn resolves to a loopback address: 127.0.1.1; using 10.1.124.58 instead (on interface enp1s0)\n",
      "23/06/19 16:19:57 WARN Utils: Set SPARK_LOCAL_IP if you need to bind to another address\n",
      "Ivy Default Cache set to: /home/ducdn/.ivy2/cache\n",
      "The jars for the packages stored in: /home/ducdn/.ivy2/jars\n",
      "org.apache.hudi#hudi-spark3.1-bundle_2.12 added as a dependency\n",
      "org.apache.spark#spark-avro_2.12 added as a dependency\n",
      "org.apache.hadoop#hadoop-aws added as a dependency\n",
      "com.amazonaws#aws-java-sdk added as a dependency\n",
      ":: resolving dependencies :: org.apache.spark#spark-submit-parent-4d9962a0-b853-4584-a087-894515cf29d2;1.0\n",
      "\tconfs: [default]\n"
     ]
    },
    {
     "name": "stdout",
     "output_type": "stream",
     "text": [
      ":: loading settings :: url = jar:file:/home/ducdn/Documents/spark/jars/ivy-2.4.0.jar!/org/apache/ivy/core/settings/ivysettings.xml\n"
     ]
    },
    {
     "name": "stderr",
     "output_type": "stream",
     "text": [
      "\tfound org.apache.hudi#hudi-spark3.1-bundle_2.12;0.13.0 in central\n",
      "\tfound org.apache.spark#spark-avro_2.12;3.1.1 in central\n",
      "\tfound org.spark-project.spark#unused;1.0.0 in central\n",
      "\tfound org.apache.hadoop#hadoop-aws;3.1.1 in central\n",
      "\tfound com.amazonaws#aws-java-sdk-bundle;1.11.271 in central\n",
      "\tfound com.amazonaws#aws-java-sdk;1.11.271 in central\n",
      "\tfound com.amazonaws#aws-java-sdk-transcribe;1.11.271 in central\n",
      "\tfound com.amazonaws#aws-java-sdk-core;1.11.271 in central\n",
      "\tfound commons-logging#commons-logging;1.1.3 in central\n",
      "\tfound org.apache.httpcomponents#httpclient;4.5.2 in central\n",
      "\tfound org.apache.httpcomponents#httpcore;4.4.4 in central\n",
      "\tfound commons-codec#commons-codec;1.9 in central\n",
      "\tfound software.amazon.ion#ion-java;1.0.2 in central\n",
      "\tfound com.fasterxml.jackson.core#jackson-databind;2.6.7.1 in central\n",
      "\tfound com.fasterxml.jackson.core#jackson-annotations;2.6.0 in central\n",
      "\tfound com.fasterxml.jackson.core#jackson-core;2.6.7 in central\n",
      "\tfound com.fasterxml.jackson.dataformat#jackson-dataformat-cbor;2.6.7 in central\n",
      "\tfound joda-time#joda-time;2.8.1 in central\n",
      "\tfound com.amazonaws#jmespath-java;1.11.271 in central\n",
      "\tfound com.amazonaws#aws-java-sdk-autoscalingplans;1.11.271 in central\n",
      "\tfound com.amazonaws#aws-java-sdk-workmail;1.11.271 in central\n",
      "\tfound com.amazonaws#aws-java-sdk-servicediscovery;1.11.271 in central\n",
      "\tfound com.amazonaws#aws-java-sdk-cloud9;1.11.271 in central\n",
      "\tfound com.amazonaws#aws-java-sdk-serverlessapplicationrepository;1.11.271 in central\n",
      "\tfound com.amazonaws#aws-java-sdk-alexaforbusiness;1.11.271 in central\n",
      "\tfound com.amazonaws#aws-java-sdk-resourcegroups;1.11.271 in central\n",
      "\tfound com.amazonaws#aws-java-sdk-comprehend;1.11.271 in central\n",
      "\tfound com.amazonaws#aws-java-sdk-translate;1.11.271 in central\n",
      "\tfound com.amazonaws#aws-java-sdk-sagemaker;1.11.271 in central\n",
      "\tfound com.amazonaws#aws-java-sdk-iotjobsdataplane;1.11.271 in central\n",
      "\tfound com.amazonaws#aws-java-sdk-sagemakerruntime;1.11.271 in central\n",
      "\tfound com.amazonaws#aws-java-sdk-kinesisvideo;1.11.271 in central\n",
      "\tfound io.netty#netty-codec-http;4.1.17.Final in central\n",
      "\tfound io.netty#netty-codec;4.1.17.Final in central\n",
      "\tfound io.netty#netty-transport;4.1.17.Final in central\n",
      "\tfound io.netty#netty-buffer;4.1.17.Final in central\n",
      "\tfound io.netty#netty-common;4.1.17.Final in central\n",
      "\tfound io.netty#netty-resolver;4.1.17.Final in central\n",
      "\tfound io.netty#netty-handler;4.1.17.Final in central\n",
      "\tfound com.amazonaws#aws-java-sdk-appsync;1.11.271 in central\n",
      "\tfound com.amazonaws#aws-java-sdk-guardduty;1.11.271 in central\n",
      "\tfound com.amazonaws#aws-java-sdk-mq;1.11.271 in central\n",
      "\tfound com.amazonaws#aws-java-sdk-mediaconvert;1.11.271 in central\n",
      "\tfound com.amazonaws#aws-java-sdk-mediastore;1.11.271 in central\n",
      "\tfound com.amazonaws#aws-java-sdk-mediastoredata;1.11.271 in central\n",
      "\tfound com.amazonaws#aws-java-sdk-medialive;1.11.271 in central\n",
      "\tfound com.amazonaws#aws-java-sdk-mediapackage;1.11.271 in central\n",
      "\tfound com.amazonaws#aws-java-sdk-costexplorer;1.11.271 in central\n",
      "\tfound com.amazonaws#aws-java-sdk-pricing;1.11.271 in central\n",
      "\tfound com.amazonaws#aws-java-sdk-mobile;1.11.271 in central\n",
      "\tfound com.amazonaws#aws-java-sdk-cloudhsmv2;1.11.271 in central\n",
      "\tfound com.amazonaws#aws-java-sdk-glue;1.11.271 in central\n",
      "\tfound com.amazonaws#aws-java-sdk-migrationhub;1.11.271 in central\n",
      "\tfound com.amazonaws#aws-java-sdk-dax;1.11.271 in central\n",
      "\tfound com.amazonaws#aws-java-sdk-greengrass;1.11.271 in central\n",
      "\tfound com.amazonaws#aws-java-sdk-athena;1.11.271 in central\n",
      "\tfound com.amazonaws#aws-java-sdk-marketplaceentitlement;1.11.271 in central\n",
      "\tfound com.amazonaws#aws-java-sdk-codestar;1.11.271 in central\n",
      "\tfound com.amazonaws#aws-java-sdk-lexmodelbuilding;1.11.271 in central\n",
      "\tfound com.amazonaws#aws-java-sdk-resourcegroupstaggingapi;1.11.271 in central\n",
      "\tfound com.amazonaws#aws-java-sdk-pinpoint;1.11.271 in central\n",
      "\tfound com.amazonaws#aws-java-sdk-xray;1.11.271 in central\n",
      "\tfound com.amazonaws#aws-java-sdk-opsworkscm;1.11.271 in central\n",
      "\tfound com.amazonaws#aws-java-sdk-support;1.11.271 in central\n",
      "\tfound com.amazonaws#aws-java-sdk-simpledb;1.11.271 in central\n",
      "\tfound com.amazonaws#aws-java-sdk-servicecatalog;1.11.271 in central\n",
      "\tfound com.amazonaws#aws-java-sdk-servermigration;1.11.271 in central\n",
      "\tfound com.amazonaws#aws-java-sdk-simpleworkflow;1.11.271 in central\n",
      "\tfound com.amazonaws#aws-java-sdk-storagegateway;1.11.271 in central\n",
      "\tfound com.amazonaws#aws-java-sdk-route53;1.11.271 in central\n",
      "\tfound com.amazonaws#aws-java-sdk-s3;1.11.271 in central\n",
      "\tfound com.amazonaws#aws-java-sdk-kms;1.11.271 in central\n",
      "\tfound com.amazonaws#aws-java-sdk-importexport;1.11.271 in central\n",
      "\tfound com.amazonaws#aws-java-sdk-sts;1.11.271 in central\n",
      "\tfound com.amazonaws#aws-java-sdk-sqs;1.11.271 in central\n",
      "\tfound com.amazonaws#aws-java-sdk-rds;1.11.271 in central\n",
      "\tfound com.amazonaws#aws-java-sdk-redshift;1.11.271 in central\n",
      "\tfound com.amazonaws#aws-java-sdk-elasticbeanstalk;1.11.271 in central\n",
      "\tfound com.amazonaws#aws-java-sdk-glacier;1.11.271 in central\n",
      "\tfound com.amazonaws#aws-java-sdk-sns;1.11.271 in central\n",
      "\tfound com.amazonaws#aws-java-sdk-iam;1.11.271 in central\n",
      "\tfound com.amazonaws#aws-java-sdk-datapipeline;1.11.271 in central\n",
      "\tfound com.amazonaws#aws-java-sdk-elasticloadbalancing;1.11.271 in central\n",
      "\tfound com.amazonaws#aws-java-sdk-elasticloadbalancingv2;1.11.271 in central\n",
      "\tfound com.amazonaws#aws-java-sdk-emr;1.11.271 in central\n",
      "\tfound com.amazonaws#aws-java-sdk-elasticache;1.11.271 in central\n",
      "\tfound com.amazonaws#aws-java-sdk-elastictranscoder;1.11.271 in central\n",
      "\tfound com.amazonaws#aws-java-sdk-ec2;1.11.271 in central\n",
      "\tfound com.amazonaws#aws-java-sdk-dynamodb;1.11.271 in central\n",
      "\tfound com.amazonaws#aws-java-sdk-budgets;1.11.271 in central\n",
      "\tfound com.amazonaws#aws-java-sdk-cloudtrail;1.11.271 in central\n",
      "\tfound com.amazonaws#aws-java-sdk-cloudwatch;1.11.271 in central\n",
      "\tfound com.amazonaws#aws-java-sdk-logs;1.11.271 in central\n",
      "\tfound com.amazonaws#aws-java-sdk-events;1.11.271 in central\n",
      "\tfound com.amazonaws#aws-java-sdk-cognitoidentity;1.11.271 in central\n",
      "\tfound com.amazonaws#aws-java-sdk-cognitosync;1.11.271 in central\n",
      "\tfound com.amazonaws#aws-java-sdk-directconnect;1.11.271 in central\n",
      "\tfound com.amazonaws#aws-java-sdk-cloudformation;1.11.271 in central\n",
      "\tfound com.amazonaws#aws-java-sdk-cloudfront;1.11.271 in central\n",
      "\tfound com.amazonaws#aws-java-sdk-clouddirectory;1.11.271 in central\n",
      "\tfound com.amazonaws#aws-java-sdk-kinesis;1.11.271 in central\n",
      "\tfound com.amazonaws#aws-java-sdk-opsworks;1.11.271 in central\n",
      "\tfound com.amazonaws#aws-java-sdk-ses;1.11.271 in central\n",
      "\tfound com.amazonaws#aws-java-sdk-autoscaling;1.11.271 in central\n",
      "\tfound com.amazonaws#aws-java-sdk-cloudsearch;1.11.271 in central\n",
      "\tfound com.amazonaws#aws-java-sdk-cloudwatchmetrics;1.11.271 in central\n",
      "\tfound com.amazonaws#aws-java-sdk-codedeploy;1.11.271 in central\n",
      "\tfound com.amazonaws#aws-java-sdk-codepipeline;1.11.271 in central\n",
      "\tfound com.amazonaws#aws-java-sdk-config;1.11.271 in central\n",
      "\tfound com.amazonaws#aws-java-sdk-lambda;1.11.271 in central\n",
      "\tfound com.amazonaws#aws-java-sdk-ecs;1.11.271 in central\n",
      "\tfound com.amazonaws#aws-java-sdk-ecr;1.11.271 in central\n",
      "\tfound com.amazonaws#aws-java-sdk-cloudhsm;1.11.271 in central\n",
      "\tfound com.amazonaws#aws-java-sdk-ssm;1.11.271 in central\n",
      "\tfound com.amazonaws#aws-java-sdk-workspaces;1.11.271 in central\n",
      "\tfound com.amazonaws#aws-java-sdk-machinelearning;1.11.271 in central\n",
      "\tfound com.amazonaws#aws-java-sdk-directory;1.11.271 in central\n",
      "\tfound com.amazonaws#aws-java-sdk-efs;1.11.271 in central\n",
      "\tfound com.amazonaws#aws-java-sdk-codecommit;1.11.271 in central\n",
      "\tfound com.amazonaws#aws-java-sdk-devicefarm;1.11.271 in central\n",
      "\tfound com.amazonaws#aws-java-sdk-elasticsearch;1.11.271 in central\n",
      "\tfound com.amazonaws#aws-java-sdk-waf;1.11.271 in central\n",
      "\tfound com.amazonaws#aws-java-sdk-marketplacecommerceanalytics;1.11.271 in central\n",
      "\tfound com.amazonaws#aws-java-sdk-inspector;1.11.271 in central\n",
      "\tfound com.amazonaws#aws-java-sdk-iot;1.11.271 in central\n",
      "\tfound com.amazonaws#aws-java-sdk-api-gateway;1.11.271 in central\n",
      "\tfound com.amazonaws#aws-java-sdk-acm;1.11.271 in central\n",
      "\tfound com.amazonaws#aws-java-sdk-gamelift;1.11.271 in central\n",
      "\tfound com.amazonaws#aws-java-sdk-dms;1.11.271 in central\n",
      "\tfound com.amazonaws#aws-java-sdk-marketplacemeteringservice;1.11.271 in central\n",
      "\tfound com.amazonaws#aws-java-sdk-cognitoidp;1.11.271 in central\n",
      "\tfound com.amazonaws#aws-java-sdk-discovery;1.11.271 in central\n",
      "\tfound com.amazonaws#aws-java-sdk-applicationautoscaling;1.11.271 in central\n",
      "\tfound com.amazonaws#aws-java-sdk-snowball;1.11.271 in central\n",
      "\tfound com.amazonaws#aws-java-sdk-rekognition;1.11.271 in central\n",
      "\tfound com.amazonaws#aws-java-sdk-polly;1.11.271 in central\n",
      "\tfound com.amazonaws#aws-java-sdk-lightsail;1.11.271 in central\n",
      "\tfound com.amazonaws#aws-java-sdk-stepfunctions;1.11.271 in central\n",
      "\tfound com.amazonaws#aws-java-sdk-health;1.11.271 in central\n",
      "\tfound com.amazonaws#aws-java-sdk-costandusagereport;1.11.271 in central\n",
      "\tfound com.amazonaws#aws-java-sdk-codebuild;1.11.271 in central\n",
      "\tfound com.amazonaws#aws-java-sdk-appstream;1.11.271 in central\n",
      "\tfound com.amazonaws#aws-java-sdk-shield;1.11.271 in central\n",
      "\tfound com.amazonaws#aws-java-sdk-batch;1.11.271 in central\n",
      "\tfound com.amazonaws#aws-java-sdk-lex;1.11.271 in central\n",
      "\tfound com.amazonaws#aws-java-sdk-mechanicalturkrequester;1.11.271 in central\n",
      "\tfound com.amazonaws#aws-java-sdk-organizations;1.11.271 in central\n",
      "\tfound com.amazonaws#aws-java-sdk-workdocs;1.11.271 in central\n",
      "\tfound com.amazonaws#aws-java-sdk-models;1.11.271 in central\n",
      "\tfound com.amazonaws#aws-java-sdk-swf-libraries;1.11.22 in central\n",
      ":: resolution report :: resolve 2539ms :: artifacts dl 52ms\n",
      "\t:: modules in use:\n",
      "\tcom.amazonaws#aws-java-sdk;1.11.271 from central in [default]\n",
      "\tcom.amazonaws#aws-java-sdk-acm;1.11.271 from central in [default]\n",
      "\tcom.amazonaws#aws-java-sdk-alexaforbusiness;1.11.271 from central in [default]\n",
      "\tcom.amazonaws#aws-java-sdk-api-gateway;1.11.271 from central in [default]\n",
      "\tcom.amazonaws#aws-java-sdk-applicationautoscaling;1.11.271 from central in [default]\n",
      "\tcom.amazonaws#aws-java-sdk-appstream;1.11.271 from central in [default]\n",
      "\tcom.amazonaws#aws-java-sdk-appsync;1.11.271 from central in [default]\n",
      "\tcom.amazonaws#aws-java-sdk-athena;1.11.271 from central in [default]\n",
      "\tcom.amazonaws#aws-java-sdk-autoscaling;1.11.271 from central in [default]\n",
      "\tcom.amazonaws#aws-java-sdk-autoscalingplans;1.11.271 from central in [default]\n",
      "\tcom.amazonaws#aws-java-sdk-batch;1.11.271 from central in [default]\n",
      "\tcom.amazonaws#aws-java-sdk-budgets;1.11.271 from central in [default]\n",
      "\tcom.amazonaws#aws-java-sdk-bundle;1.11.271 from central in [default]\n",
      "\tcom.amazonaws#aws-java-sdk-cloud9;1.11.271 from central in [default]\n",
      "\tcom.amazonaws#aws-java-sdk-clouddirectory;1.11.271 from central in [default]\n",
      "\tcom.amazonaws#aws-java-sdk-cloudformation;1.11.271 from central in [default]\n",
      "\tcom.amazonaws#aws-java-sdk-cloudfront;1.11.271 from central in [default]\n",
      "\tcom.amazonaws#aws-java-sdk-cloudhsm;1.11.271 from central in [default]\n",
      "\tcom.amazonaws#aws-java-sdk-cloudhsmv2;1.11.271 from central in [default]\n",
      "\tcom.amazonaws#aws-java-sdk-cloudsearch;1.11.271 from central in [default]\n",
      "\tcom.amazonaws#aws-java-sdk-cloudtrail;1.11.271 from central in [default]\n",
      "\tcom.amazonaws#aws-java-sdk-cloudwatch;1.11.271 from central in [default]\n",
      "\tcom.amazonaws#aws-java-sdk-cloudwatchmetrics;1.11.271 from central in [default]\n",
      "\tcom.amazonaws#aws-java-sdk-codebuild;1.11.271 from central in [default]\n",
      "\tcom.amazonaws#aws-java-sdk-codecommit;1.11.271 from central in [default]\n",
      "\tcom.amazonaws#aws-java-sdk-codedeploy;1.11.271 from central in [default]\n",
      "\tcom.amazonaws#aws-java-sdk-codepipeline;1.11.271 from central in [default]\n",
      "\tcom.amazonaws#aws-java-sdk-codestar;1.11.271 from central in [default]\n",
      "\tcom.amazonaws#aws-java-sdk-cognitoidentity;1.11.271 from central in [default]\n",
      "\tcom.amazonaws#aws-java-sdk-cognitoidp;1.11.271 from central in [default]\n",
      "\tcom.amazonaws#aws-java-sdk-cognitosync;1.11.271 from central in [default]\n",
      "\tcom.amazonaws#aws-java-sdk-comprehend;1.11.271 from central in [default]\n",
      "\tcom.amazonaws#aws-java-sdk-config;1.11.271 from central in [default]\n",
      "\tcom.amazonaws#aws-java-sdk-core;1.11.271 from central in [default]\n",
      "\tcom.amazonaws#aws-java-sdk-costandusagereport;1.11.271 from central in [default]\n",
      "\tcom.amazonaws#aws-java-sdk-costexplorer;1.11.271 from central in [default]\n",
      "\tcom.amazonaws#aws-java-sdk-datapipeline;1.11.271 from central in [default]\n",
      "\tcom.amazonaws#aws-java-sdk-dax;1.11.271 from central in [default]\n",
      "\tcom.amazonaws#aws-java-sdk-devicefarm;1.11.271 from central in [default]\n",
      "\tcom.amazonaws#aws-java-sdk-directconnect;1.11.271 from central in [default]\n",
      "\tcom.amazonaws#aws-java-sdk-directory;1.11.271 from central in [default]\n",
      "\tcom.amazonaws#aws-java-sdk-discovery;1.11.271 from central in [default]\n",
      "\tcom.amazonaws#aws-java-sdk-dms;1.11.271 from central in [default]\n",
      "\tcom.amazonaws#aws-java-sdk-dynamodb;1.11.271 from central in [default]\n",
      "\tcom.amazonaws#aws-java-sdk-ec2;1.11.271 from central in [default]\n",
      "\tcom.amazonaws#aws-java-sdk-ecr;1.11.271 from central in [default]\n",
      "\tcom.amazonaws#aws-java-sdk-ecs;1.11.271 from central in [default]\n",
      "\tcom.amazonaws#aws-java-sdk-efs;1.11.271 from central in [default]\n",
      "\tcom.amazonaws#aws-java-sdk-elasticache;1.11.271 from central in [default]\n",
      "\tcom.amazonaws#aws-java-sdk-elasticbeanstalk;1.11.271 from central in [default]\n",
      "\tcom.amazonaws#aws-java-sdk-elasticloadbalancing;1.11.271 from central in [default]\n",
      "\tcom.amazonaws#aws-java-sdk-elasticloadbalancingv2;1.11.271 from central in [default]\n",
      "\tcom.amazonaws#aws-java-sdk-elasticsearch;1.11.271 from central in [default]\n",
      "\tcom.amazonaws#aws-java-sdk-elastictranscoder;1.11.271 from central in [default]\n",
      "\tcom.amazonaws#aws-java-sdk-emr;1.11.271 from central in [default]\n",
      "\tcom.amazonaws#aws-java-sdk-events;1.11.271 from central in [default]\n",
      "\tcom.amazonaws#aws-java-sdk-gamelift;1.11.271 from central in [default]\n",
      "\tcom.amazonaws#aws-java-sdk-glacier;1.11.271 from central in [default]\n",
      "\tcom.amazonaws#aws-java-sdk-glue;1.11.271 from central in [default]\n",
      "\tcom.amazonaws#aws-java-sdk-greengrass;1.11.271 from central in [default]\n",
      "\tcom.amazonaws#aws-java-sdk-guardduty;1.11.271 from central in [default]\n",
      "\tcom.amazonaws#aws-java-sdk-health;1.11.271 from central in [default]\n",
      "\tcom.amazonaws#aws-java-sdk-iam;1.11.271 from central in [default]\n",
      "\tcom.amazonaws#aws-java-sdk-importexport;1.11.271 from central in [default]\n",
      "\tcom.amazonaws#aws-java-sdk-inspector;1.11.271 from central in [default]\n",
      "\tcom.amazonaws#aws-java-sdk-iot;1.11.271 from central in [default]\n",
      "\tcom.amazonaws#aws-java-sdk-iotjobsdataplane;1.11.271 from central in [default]\n",
      "\tcom.amazonaws#aws-java-sdk-kinesis;1.11.271 from central in [default]\n",
      "\tcom.amazonaws#aws-java-sdk-kinesisvideo;1.11.271 from central in [default]\n",
      "\tcom.amazonaws#aws-java-sdk-kms;1.11.271 from central in [default]\n",
      "\tcom.amazonaws#aws-java-sdk-lambda;1.11.271 from central in [default]\n",
      "\tcom.amazonaws#aws-java-sdk-lex;1.11.271 from central in [default]\n",
      "\tcom.amazonaws#aws-java-sdk-lexmodelbuilding;1.11.271 from central in [default]\n",
      "\tcom.amazonaws#aws-java-sdk-lightsail;1.11.271 from central in [default]\n",
      "\tcom.amazonaws#aws-java-sdk-logs;1.11.271 from central in [default]\n",
      "\tcom.amazonaws#aws-java-sdk-machinelearning;1.11.271 from central in [default]\n",
      "\tcom.amazonaws#aws-java-sdk-marketplacecommerceanalytics;1.11.271 from central in [default]\n",
      "\tcom.amazonaws#aws-java-sdk-marketplaceentitlement;1.11.271 from central in [default]\n",
      "\tcom.amazonaws#aws-java-sdk-marketplacemeteringservice;1.11.271 from central in [default]\n",
      "\tcom.amazonaws#aws-java-sdk-mechanicalturkrequester;1.11.271 from central in [default]\n",
      "\tcom.amazonaws#aws-java-sdk-mediaconvert;1.11.271 from central in [default]\n",
      "\tcom.amazonaws#aws-java-sdk-medialive;1.11.271 from central in [default]\n",
      "\tcom.amazonaws#aws-java-sdk-mediapackage;1.11.271 from central in [default]\n",
      "\tcom.amazonaws#aws-java-sdk-mediastore;1.11.271 from central in [default]\n",
      "\tcom.amazonaws#aws-java-sdk-mediastoredata;1.11.271 from central in [default]\n",
      "\tcom.amazonaws#aws-java-sdk-migrationhub;1.11.271 from central in [default]\n",
      "\tcom.amazonaws#aws-java-sdk-mobile;1.11.271 from central in [default]\n",
      "\tcom.amazonaws#aws-java-sdk-models;1.11.271 from central in [default]\n",
      "\tcom.amazonaws#aws-java-sdk-mq;1.11.271 from central in [default]\n",
      "\tcom.amazonaws#aws-java-sdk-opsworks;1.11.271 from central in [default]\n",
      "\tcom.amazonaws#aws-java-sdk-opsworkscm;1.11.271 from central in [default]\n",
      "\tcom.amazonaws#aws-java-sdk-organizations;1.11.271 from central in [default]\n",
      "\tcom.amazonaws#aws-java-sdk-pinpoint;1.11.271 from central in [default]\n",
      "\tcom.amazonaws#aws-java-sdk-polly;1.11.271 from central in [default]\n",
      "\tcom.amazonaws#aws-java-sdk-pricing;1.11.271 from central in [default]\n",
      "\tcom.amazonaws#aws-java-sdk-rds;1.11.271 from central in [default]\n",
      "\tcom.amazonaws#aws-java-sdk-redshift;1.11.271 from central in [default]\n",
      "\tcom.amazonaws#aws-java-sdk-rekognition;1.11.271 from central in [default]\n",
      "\tcom.amazonaws#aws-java-sdk-resourcegroups;1.11.271 from central in [default]\n",
      "\tcom.amazonaws#aws-java-sdk-resourcegroupstaggingapi;1.11.271 from central in [default]\n",
      "\tcom.amazonaws#aws-java-sdk-route53;1.11.271 from central in [default]\n",
      "\tcom.amazonaws#aws-java-sdk-s3;1.11.271 from central in [default]\n",
      "\tcom.amazonaws#aws-java-sdk-sagemaker;1.11.271 from central in [default]\n",
      "\tcom.amazonaws#aws-java-sdk-sagemakerruntime;1.11.271 from central in [default]\n",
      "\tcom.amazonaws#aws-java-sdk-serverlessapplicationrepository;1.11.271 from central in [default]\n",
      "\tcom.amazonaws#aws-java-sdk-servermigration;1.11.271 from central in [default]\n",
      "\tcom.amazonaws#aws-java-sdk-servicecatalog;1.11.271 from central in [default]\n",
      "\tcom.amazonaws#aws-java-sdk-servicediscovery;1.11.271 from central in [default]\n",
      "\tcom.amazonaws#aws-java-sdk-ses;1.11.271 from central in [default]\n",
      "\tcom.amazonaws#aws-java-sdk-shield;1.11.271 from central in [default]\n",
      "\tcom.amazonaws#aws-java-sdk-simpledb;1.11.271 from central in [default]\n",
      "\tcom.amazonaws#aws-java-sdk-simpleworkflow;1.11.271 from central in [default]\n",
      "\tcom.amazonaws#aws-java-sdk-snowball;1.11.271 from central in [default]\n",
      "\tcom.amazonaws#aws-java-sdk-sns;1.11.271 from central in [default]\n",
      "\tcom.amazonaws#aws-java-sdk-sqs;1.11.271 from central in [default]\n",
      "\tcom.amazonaws#aws-java-sdk-ssm;1.11.271 from central in [default]\n",
      "\tcom.amazonaws#aws-java-sdk-stepfunctions;1.11.271 from central in [default]\n",
      "\tcom.amazonaws#aws-java-sdk-storagegateway;1.11.271 from central in [default]\n",
      "\tcom.amazonaws#aws-java-sdk-sts;1.11.271 from central in [default]\n",
      "\tcom.amazonaws#aws-java-sdk-support;1.11.271 from central in [default]\n",
      "\tcom.amazonaws#aws-java-sdk-swf-libraries;1.11.22 from central in [default]\n",
      "\tcom.amazonaws#aws-java-sdk-transcribe;1.11.271 from central in [default]\n",
      "\tcom.amazonaws#aws-java-sdk-translate;1.11.271 from central in [default]\n",
      "\tcom.amazonaws#aws-java-sdk-waf;1.11.271 from central in [default]\n",
      "\tcom.amazonaws#aws-java-sdk-workdocs;1.11.271 from central in [default]\n",
      "\tcom.amazonaws#aws-java-sdk-workmail;1.11.271 from central in [default]\n",
      "\tcom.amazonaws#aws-java-sdk-workspaces;1.11.271 from central in [default]\n",
      "\tcom.amazonaws#aws-java-sdk-xray;1.11.271 from central in [default]\n",
      "\tcom.amazonaws#jmespath-java;1.11.271 from central in [default]\n",
      "\tcom.fasterxml.jackson.core#jackson-annotations;2.6.0 from central in [default]\n",
      "\tcom.fasterxml.jackson.core#jackson-core;2.6.7 from central in [default]\n",
      "\tcom.fasterxml.jackson.core#jackson-databind;2.6.7.1 from central in [default]\n",
      "\tcom.fasterxml.jackson.dataformat#jackson-dataformat-cbor;2.6.7 from central in [default]\n",
      "\tcommons-codec#commons-codec;1.9 from central in [default]\n",
      "\tcommons-logging#commons-logging;1.1.3 from central in [default]\n",
      "\tio.netty#netty-buffer;4.1.17.Final from central in [default]\n",
      "\tio.netty#netty-codec;4.1.17.Final from central in [default]\n",
      "\tio.netty#netty-codec-http;4.1.17.Final from central in [default]\n",
      "\tio.netty#netty-common;4.1.17.Final from central in [default]\n",
      "\tio.netty#netty-handler;4.1.17.Final from central in [default]\n",
      "\tio.netty#netty-resolver;4.1.17.Final from central in [default]\n",
      "\tio.netty#netty-transport;4.1.17.Final from central in [default]\n",
      "\tjoda-time#joda-time;2.8.1 from central in [default]\n",
      "\torg.apache.hadoop#hadoop-aws;3.1.1 from central in [default]\n",
      "\torg.apache.httpcomponents#httpclient;4.5.2 from central in [default]\n",
      "\torg.apache.httpcomponents#httpcore;4.4.4 from central in [default]\n",
      "\torg.apache.hudi#hudi-spark3.1-bundle_2.12;0.13.0 from central in [default]\n",
      "\torg.apache.spark#spark-avro_2.12;3.1.1 from central in [default]\n",
      "\torg.spark-project.spark#unused;1.0.0 from central in [default]\n",
      "\tsoftware.amazon.ion#ion-java;1.0.2 from central in [default]\n",
      "\t:: evicted modules:\n",
      "\tcommons-logging#commons-logging;1.2 by [commons-logging#commons-logging;1.1.3] in [default]\n",
      "\tcom.amazonaws#aws-java-sdk-simpleworkflow;1.11.22 by [com.amazonaws#aws-java-sdk-simpleworkflow;1.11.271] in [default]\n",
      "\t---------------------------------------------------------------------\n",
      "\t|                  |            modules            ||   artifacts   |\n",
      "\t|       conf       | number| search|dwnlded|evicted|| number|dwnlded|\n",
      "\t---------------------------------------------------------------------\n",
      "\t|      default     |  152  |   0   |   0   |   2   ||  150  |   0   |\n",
      "\t---------------------------------------------------------------------\n",
      ":: retrieving :: org.apache.spark#spark-submit-parent-4d9962a0-b853-4584-a087-894515cf29d2\n",
      "\tconfs: [default]\n",
      "\t0 artifacts copied, 150 already retrieved (0kB/21ms)\n",
      "23/06/19 16:20:00 WARN NativeCodeLoader: Unable to load native-hadoop library for your platform... using builtin-java classes where applicable\n",
      "Using Spark's default log4j profile: org/apache/spark/log4j-defaults.properties\n",
      "Setting default log level to \"WARN\".\n",
      "To adjust logging level use sc.setLogLevel(newLevel). For SparkR, use setLogLevel(newLevel).\n"
     ]
    }
   ],
   "source": [
    "from pyspark import SparkConf\n",
    "from pyspark.sql import SparkSession\n",
    "from pyspark.sql.types import StringType, DoubleType, IntegerType\n",
    "from pyspark.sql.functions import sum as _sum, avg, expr, window, from_unixtime, col\n",
    "\n",
    "from pyspark.sql import SparkSession\n",
    "from pyspark.sql.functions import *\n",
    "from pyspark.sql.types import StructType, StructField, StringType, TimestampType\n",
    "import time, datetime\n",
    "import os\n",
    "import random\n",
    "import uuid\n",
    "\n",
    "spark = (\n",
    "    SparkSession.builder.appName(\"spark application\")\n",
    "    .config(\n",
    "        \"spark.jars.packages\",\n",
    "        \"org.apache.hudi:hudi-spark3.1-bundle_2.12:0.13.0,\"\n",
    "        \"org.apache.spark:spark-avro_2.12:3.1.1,\"\n",
    "        \"org.apache.hadoop:hadoop-aws:3.1.1,\"\n",
    "        \"com.amazonaws:aws-java-sdk:1.11.271,\"\n",
    "    )\n",
    "    .config(\n",
    "        \"spark.sql.extensions\",\n",
    "        \"org.apache.spark.sql.hudi.HoodieSparkSessionExtension\",\n",
    "    )\n",
    "    .config(\"spark.serializer\", \"org.apache.spark.serializer.KryoSerializer\")\n",
    "    .config(\n",
    "        \"spark.hadoop.fs.s3a.impl\", \"org.apache.hadoop.fs.s3a.S3AFileSystem\"\n",
    "    )\n",
    "    .config(\"spark.hadoop.fs.s3a.access.key\", \"minioadmin\")\n",
    "    .config(\"spark.hadoop.fs.s3a.secret.key\", \"minioadmin\")\n",
    "    .config(\"spark.hadoop.fs.s3a.endpoint\", \"http://minio:9000\")\n",
    "    .config(\"spark.hadoop.fs.s3a.path.style.access\", \"true\")\n",
    "    .config(\"spark.hadoop.fs.s3a.connection.ssl.enabled\", \"false\")\n",
    "    .config(\n",
    "        \"spark.hadoop.fs.s3a.aws.credentials.provider\",\n",
    "        \"org.apache.hadoop.fs.s3a.SimpleAWSCredentialsProvider\",\n",
    "    )\n",
    "    .config(\"spark.hadoop.fs.s3a.connection.maximum\", \"1000\")\n",
    "    .getOrCreate()\n",
    ")\n"
   ]
  },
  {
   "cell_type": "code",
   "execution_count": 4,
   "metadata": {},
   "outputs": [],
   "source": [
    "\n",
    "hoodie_options = {\n",
    "    \"hoodie.table.name\": \"hudi_mor\",\n",
    "    \"hoodie.metadata.enable\": \"true\",\n",
    "    \"hoodie.table.type\": \"MERGE_ON_READ\",\n",
    "    \"hoodie.datasource.write.table.type\": \"MERGE_ON_READ\",\n",
    "    \"hoodie.datasource.write.operation\": \"upsert\",\n",
    "    \"hoodie.datasource.write.recordkey.field\": \"id\",\n",
    "    \"hoodie.datasource.write.partitionpath.field\": \"partition\",\n",
    "    \"hoodie.datasource.write.table.name\": \"hudi_mor\",\n",
    "    \"hoodie.datasource.write.precombine.field\": \"timestamp\",\n",
    "    \"hoodie.clean.automatic\": \"true\",\n",
    "    \"hoodie.cleaner.policy\": \"KEEP_LATEST_FILE_VERSIONS\",\n",
    "    \"hoodie.cleaner.fileversions.retained\": 10,\n",
    "    \"hoodie.compact.inline\": \"true\",\n",
    "    \"hoodie.compact.inline.max.delta.commits\": 3,\n",
    "    \"hoodie.datasource.write.hive_style_partitioning\": \"true\",\n",
    "    \"hoodie.datasource.hive_sync.enable\": \"true\",\n",
    "    \"hoodie.datasource.hive_sync.mode\": \"hms\",\n",
    "    \"hoodie.datasource.hive_sync.database\": \"default\",\n",
    "    \"hoodie.datasource.hive_sync.table\": f\"hudi_mor\",\n",
    "    \"hoodie.datasource.hive_sync.partition_fields\": \"partition\",\n",
    "    \"hoodie.datasource.hive_sync.partition_extractor_class\": \n",
    "        \"org.apache.hudi.hive.MultiPartKeysValueExtractor\",\n",
    "    \"hoodie.datasource.hive_sync.metastore.uris\": \n",
    "        \"thrift://hive-metastore:9083\"\n",
    "}"
   ]
  },
  {
   "cell_type": "code",
   "execution_count": 5,
   "metadata": {},
   "outputs": [],
   "source": [
    "schema = StructType([\n",
    "    StructField(\"id\", StringType()),\n",
    "    StructField(\"value\", StringType()),\n",
    "    StructField(\"timestamp\", IntegerType()),\n",
    "    StructField(\"partition\", StringType())\n",
    "])"
   ]
  },
  {
   "attachments": {},
   "cell_type": "markdown",
   "metadata": {},
   "source": [
    "#### Update"
   ]
  },
  {
   "cell_type": "code",
   "execution_count": 7,
   "metadata": {},
   "outputs": [
    {
     "name": "stderr",
     "output_type": "stream",
     "text": [
      "23/06/19 16:55:25 WARN HoodieWriteConfig: Embedded timeline server is disabled, fallback to use direct marker type for spark\n",
      "23/06/19 16:55:27 WARN HoodieWriteConfig: Embedded timeline server is disabled, fallback to use direct marker type for spark\n",
      "23/06/19 16:55:32 WARN HoodieWriteConfig: Embedded timeline server is disabled, fallback to use direct marker type for spark\n"
     ]
    }
   ],
   "source": [
    "\n",
    "data = [(\"cee11856-3a7d-499e-a9b4-98a875fa04ad\", 11223344, current_timestamp(), 1)]\n",
    "stream_df = spark.createDataFrame(data, schema)\n",
    "\n",
    "\n",
    "stream_df.write.format(\"hudi\") \\\n",
    "    .options(**hoodie_options) \\\n",
    "    .mode(\"append\") \\\n",
    "    .save(f\"s3a://datalake/hudi_mor\")\n"
   ]
  },
  {
   "attachments": {},
   "cell_type": "markdown",
   "metadata": {},
   "source": [
    "#### Write Hudi Mor"
   ]
  },
  {
   "cell_type": "code",
   "execution_count": 8,
   "metadata": {},
   "outputs": [
    {
     "name": "stdout",
     "output_type": "stream",
     "text": [
      "====================START GEN DATA====================\n",
      "+------------------------------------+------+----------+---------+\n",
      "|id                                  |value |timestamp |partition|\n",
      "+------------------------------------+------+----------+---------+\n",
      "|fd943a8d-218d-415c-a17a-4272144edbc2|738998|1687170177|3        |\n",
      "|20d8ed05-41a9-4c56-ba1f-cbd742e28b17|28269 |1687170177|3        |\n",
      "+------------------------------------+------+----------+---------+\n",
      "only showing top 2 rows\n",
      "\n"
     ]
    },
    {
     "name": "stderr",
     "output_type": "stream",
     "text": [
      "23/06/19 17:22:57 WARN HoodieWriteConfig: Embedded timeline server is disabled, fallback to use direct marker type for spark\n",
      "23/06/19 17:23:00 WARN HoodieWriteConfig: Embedded timeline server is disabled, fallback to use direct marker type for spark\n"
     ]
    },
    {
     "name": "stdout",
     "output_type": "stream",
     "text": [
      "--------------------STARTING WRITE HUDI TABLE--------------------\n",
      "--------------------DONE--------------------\n",
      "================== TIME SLEEP ==============\n",
      "====================START GEN DATA====================\n",
      "+------------------------------------+------+----------+---------+\n",
      "|id                                  |value |timestamp |partition|\n",
      "+------------------------------------+------+----------+---------+\n",
      "|4e591885-d71d-4edc-9eb5-7af3ec87cf6d|664253|1687170193|2        |\n",
      "|69fe012b-8ae6-4db0-8788-c07b46b829ae|56747 |1687170193|2        |\n",
      "+------------------------------------+------+----------+---------+\n",
      "only showing top 2 rows\n",
      "\n"
     ]
    },
    {
     "name": "stderr",
     "output_type": "stream",
     "text": [
      "23/06/19 17:23:14 WARN HoodieWriteConfig: Embedded timeline server is disabled, fallback to use direct marker type for spark\n",
      "23/06/19 17:23:15 WARN HoodieWriteConfig: Embedded timeline server is disabled, fallback to use direct marker type for spark\n"
     ]
    },
    {
     "name": "stdout",
     "output_type": "stream",
     "text": [
      "--------------------STARTING WRITE HUDI TABLE--------------------\n",
      "--------------------DONE--------------------\n",
      "================== TIME SLEEP ==============\n",
      "====================START GEN DATA====================\n",
      "+------------------------------------+------+----------+---------+\n",
      "|id                                  |value |timestamp |partition|\n",
      "+------------------------------------+------+----------+---------+\n",
      "|75b3084c-c148-4995-8453-ca156babc20c|263073|1687170208|1        |\n",
      "|f6634bc1-6db0-4767-9384-3da2c58879ba|952050|1687170208|2        |\n",
      "+------------------------------------+------+----------+---------+\n",
      "only showing top 2 rows\n",
      "\n"
     ]
    },
    {
     "name": "stderr",
     "output_type": "stream",
     "text": [
      "23/06/19 17:23:29 WARN HoodieWriteConfig: Embedded timeline server is disabled, fallback to use direct marker type for spark\n",
      "23/06/19 17:23:32 WARN HoodieWriteConfig: Embedded timeline server is disabled, fallback to use direct marker type for spark\n",
      "23/06/19 17:23:34 WARN BaseHoodieCompactionPlanGenerator: No operations are retrieved for s3a://datalake/hudi_mor\n"
     ]
    },
    {
     "name": "stdout",
     "output_type": "stream",
     "text": [
      "--------------------STARTING WRITE HUDI TABLE--------------------\n",
      "--------------------DONE--------------------\n",
      "================== TIME SLEEP ==============\n",
      "====================START GEN DATA====================\n",
      "+------------------------------------+------+----------+---------+\n",
      "|id                                  |value |timestamp |partition|\n",
      "+------------------------------------+------+----------+---------+\n",
      "|efca03b8-d55a-4adb-b451-3065c34da0f8|897961|1687170224|3        |\n",
      "|d929a0ba-8f29-4fd6-8cc0-ae247d6db305|40914 |1687170224|1        |\n",
      "+------------------------------------+------+----------+---------+\n",
      "only showing top 2 rows\n",
      "\n"
     ]
    },
    {
     "name": "stderr",
     "output_type": "stream",
     "text": [
      "23/06/19 17:23:45 WARN HoodieWriteConfig: Embedded timeline server is disabled, fallback to use direct marker type for spark\n",
      "23/06/19 17:23:47 WARN HoodieWriteConfig: Embedded timeline server is disabled, fallback to use direct marker type for spark\n",
      "23/06/19 17:23:52 WARN BaseHoodieCompactionPlanGenerator: No operations are retrieved for s3a://datalake/hudi_mor\n"
     ]
    },
    {
     "name": "stdout",
     "output_type": "stream",
     "text": [
      "--------------------STARTING WRITE HUDI TABLE--------------------\n",
      "--------------------DONE--------------------\n",
      "================== TIME SLEEP ==============\n",
      "====================START GEN DATA====================\n",
      "+------------------------------------+------+----------+---------+\n",
      "|id                                  |value |timestamp |partition|\n",
      "+------------------------------------+------+----------+---------+\n",
      "|75b57caf-efc7-4d36-a37f-650fdf1b13c4|185486|1687170242|2        |\n",
      "|f5057e51-823e-4b68-aacd-871898ef6a68|177806|1687170242|2        |\n",
      "+------------------------------------+------+----------+---------+\n",
      "only showing top 2 rows\n",
      "\n"
     ]
    },
    {
     "name": "stderr",
     "output_type": "stream",
     "text": [
      "23/06/19 17:24:02 WARN HoodieWriteConfig: Embedded timeline server is disabled, fallback to use direct marker type for spark\n",
      "23/06/19 17:24:05 WARN HoodieWriteConfig: Embedded timeline server is disabled, fallback to use direct marker type for spark\n",
      "23/06/19 17:24:08 WARN BaseHoodieCompactionPlanGenerator: No operations are retrieved for s3a://datalake/hudi_mor\n"
     ]
    },
    {
     "name": "stdout",
     "output_type": "stream",
     "text": [
      "--------------------STARTING WRITE HUDI TABLE--------------------\n",
      "--------------------DONE--------------------\n",
      "================== TIME SLEEP ==============\n",
      "====================START GEN DATA====================\n",
      "+------------------------------------+------+----------+---------+\n",
      "|id                                  |value |timestamp |partition|\n",
      "+------------------------------------+------+----------+---------+\n",
      "|a067b12a-8a3f-44f5-96ad-3cf057526454|753089|1687170258|3        |\n",
      "|9526c526-4408-4d8d-af55-3b10bddabba8|391946|1687170258|3        |\n",
      "+------------------------------------+------+----------+---------+\n",
      "only showing top 2 rows\n",
      "\n"
     ]
    },
    {
     "name": "stderr",
     "output_type": "stream",
     "text": [
      "23/06/19 17:24:19 WARN HoodieWriteConfig: Embedded timeline server is disabled, fallback to use direct marker type for spark\n",
      "23/06/19 17:24:21 WARN HoodieWriteConfig: Embedded timeline server is disabled, fallback to use direct marker type for spark\n",
      "23/06/19 17:24:25 WARN BaseHoodieCompactionPlanGenerator: No operations are retrieved for s3a://datalake/hudi_mor\n"
     ]
    },
    {
     "name": "stdout",
     "output_type": "stream",
     "text": [
      "--------------------STARTING WRITE HUDI TABLE--------------------\n",
      "--------------------DONE--------------------\n",
      "================== TIME SLEEP ==============\n",
      "====================START GEN DATA====================\n",
      "+------------------------------------+------+----------+---------+\n",
      "|id                                  |value |timestamp |partition|\n",
      "+------------------------------------+------+----------+---------+\n",
      "|cfe95bb1-d1c5-4acb-87eb-f7575a8f602d|914662|1687170275|2        |\n",
      "|314e24dd-faff-4c28-92d1-b7eac6d28239|745887|1687170275|2        |\n",
      "+------------------------------------+------+----------+---------+\n",
      "only showing top 2 rows\n",
      "\n"
     ]
    },
    {
     "name": "stderr",
     "output_type": "stream",
     "text": [
      "23/06/19 17:24:36 WARN HoodieWriteConfig: Embedded timeline server is disabled, fallback to use direct marker type for spark\n",
      "23/06/19 17:24:38 WARN HoodieWriteConfig: Embedded timeline server is disabled, fallback to use direct marker type for spark\n",
      "23/06/19 17:24:41 WARN BaseHoodieCompactionPlanGenerator: No operations are retrieved for s3a://datalake/hudi_mor\n"
     ]
    },
    {
     "name": "stdout",
     "output_type": "stream",
     "text": [
      "--------------------STARTING WRITE HUDI TABLE--------------------\n",
      "--------------------DONE--------------------\n",
      "================== TIME SLEEP ==============\n",
      "====================START GEN DATA====================\n",
      "+------------------------------------+------+----------+---------+\n",
      "|id                                  |value |timestamp |partition|\n",
      "+------------------------------------+------+----------+---------+\n",
      "|2e9cf50f-3c09-46c5-9b93-8af2a0d8251b|792047|1687170291|1        |\n",
      "|5db021cd-b051-4d9b-b3dd-6fb7246c11e4|131709|1687170291|2        |\n",
      "+------------------------------------+------+----------+---------+\n",
      "only showing top 2 rows\n",
      "\n"
     ]
    },
    {
     "name": "stderr",
     "output_type": "stream",
     "text": [
      "23/06/19 17:24:52 WARN HoodieWriteConfig: Embedded timeline server is disabled, fallback to use direct marker type for spark\n",
      "23/06/19 17:24:54 WARN HoodieWriteConfig: Embedded timeline server is disabled, fallback to use direct marker type for spark\n",
      "23/06/19 17:24:58 WARN BaseHoodieCompactionPlanGenerator: No operations are retrieved for s3a://datalake/hudi_mor\n"
     ]
    },
    {
     "name": "stdout",
     "output_type": "stream",
     "text": [
      "--------------------STARTING WRITE HUDI TABLE--------------------\n",
      "--------------------DONE--------------------\n",
      "================== TIME SLEEP ==============\n",
      "====================START GEN DATA====================\n",
      "+------------------------------------+------+----------+---------+\n",
      "|id                                  |value |timestamp |partition|\n",
      "+------------------------------------+------+----------+---------+\n",
      "|df61a810-e3d9-4d92-98a8-c2e485ecae3c|676981|1687170308|2        |\n",
      "|b2ba9543-d608-42eb-9ba2-c839a3e68887|809498|1687170308|1        |\n",
      "+------------------------------------+------+----------+---------+\n",
      "only showing top 2 rows\n",
      "\n"
     ]
    },
    {
     "name": "stderr",
     "output_type": "stream",
     "text": [
      "23/06/19 17:25:09 WARN HoodieWriteConfig: Embedded timeline server is disabled, fallback to use direct marker type for spark\n",
      "23/06/19 17:25:11 WARN HoodieWriteConfig: Embedded timeline server is disabled, fallback to use direct marker type for spark\n",
      "23/06/19 17:25:15 WARN BaseHoodieCompactionPlanGenerator: No operations are retrieved for s3a://datalake/hudi_mor\n"
     ]
    },
    {
     "name": "stdout",
     "output_type": "stream",
     "text": [
      "--------------------STARTING WRITE HUDI TABLE--------------------\n",
      "--------------------DONE--------------------\n",
      "================== TIME SLEEP ==============\n",
      "====================START GEN DATA====================\n",
      "+------------------------------------+------+----------+---------+\n",
      "|id                                  |value |timestamp |partition|\n",
      "+------------------------------------+------+----------+---------+\n",
      "|d39f1bef-0dd4-4ce2-9e19-8da2858f0710|330115|1687170325|1        |\n",
      "|c3fddeb2-b461-4a8d-9ffb-1071afd89bde|762669|1687170325|1        |\n",
      "+------------------------------------+------+----------+---------+\n",
      "only showing top 2 rows\n",
      "\n"
     ]
    },
    {
     "name": "stderr",
     "output_type": "stream",
     "text": [
      "23/06/19 17:25:25 WARN HoodieWriteConfig: Embedded timeline server is disabled, fallback to use direct marker type for spark\n",
      "23/06/19 17:25:28 WARN HoodieWriteConfig: Embedded timeline server is disabled, fallback to use direct marker type for spark\n",
      "23/06/19 17:25:31 WARN BaseHoodieCompactionPlanGenerator: No operations are retrieved for s3a://datalake/hudi_mor\n"
     ]
    },
    {
     "name": "stdout",
     "output_type": "stream",
     "text": [
      "--------------------STARTING WRITE HUDI TABLE--------------------\n",
      "--------------------DONE--------------------\n",
      "================== TIME SLEEP ==============\n",
      "====================START GEN DATA====================\n",
      "+------------------------------------+------+----------+---------+\n",
      "|id                                  |value |timestamp |partition|\n",
      "+------------------------------------+------+----------+---------+\n",
      "|2bfadecf-081c-4230-ab80-0850d92458bc|203848|1687170341|1        |\n",
      "|3d8bf78b-145d-4155-ba2c-87aa68972585|169943|1687170341|2        |\n",
      "+------------------------------------+------+----------+---------+\n",
      "only showing top 2 rows\n",
      "\n"
     ]
    },
    {
     "name": "stderr",
     "output_type": "stream",
     "text": [
      "23/06/19 17:25:42 WARN HoodieWriteConfig: Embedded timeline server is disabled, fallback to use direct marker type for spark\n",
      "23/06/19 17:25:44 WARN HoodieWriteConfig: Embedded timeline server is disabled, fallback to use direct marker type for spark\n",
      "23/06/19 17:25:47 WARN BaseHoodieCompactionPlanGenerator: No operations are retrieved for s3a://datalake/hudi_mor\n"
     ]
    },
    {
     "name": "stdout",
     "output_type": "stream",
     "text": [
      "--------------------STARTING WRITE HUDI TABLE--------------------\n",
      "--------------------DONE--------------------\n",
      "================== TIME SLEEP ==============\n",
      "====================START GEN DATA====================\n",
      "+------------------------------------+------+----------+---------+\n",
      "|id                                  |value |timestamp |partition|\n",
      "+------------------------------------+------+----------+---------+\n",
      "|917a473b-6772-44e0-8f06-823bf70632d1|999647|1687170358|3        |\n",
      "|1ab36fdb-0ed1-40b7-a9b9-7942e5bd876d|641053|1687170358|1        |\n",
      "+------------------------------------+------+----------+---------+\n",
      "only showing top 2 rows\n",
      "\n"
     ]
    },
    {
     "name": "stderr",
     "output_type": "stream",
     "text": [
      "23/06/19 17:25:58 WARN HoodieWriteConfig: Embedded timeline server is disabled, fallback to use direct marker type for spark\n",
      "23/06/19 17:26:01 WARN HoodieWriteConfig: Embedded timeline server is disabled, fallback to use direct marker type for spark\n",
      "23/06/19 17:26:04 WARN BaseHoodieCompactionPlanGenerator: No operations are retrieved for s3a://datalake/hudi_mor\n"
     ]
    },
    {
     "name": "stdout",
     "output_type": "stream",
     "text": [
      "--------------------STARTING WRITE HUDI TABLE--------------------\n",
      "--------------------DONE--------------------\n",
      "================== TIME SLEEP ==============\n",
      "====================START GEN DATA====================\n",
      "+------------------------------------+------+----------+---------+\n",
      "|id                                  |value |timestamp |partition|\n",
      "+------------------------------------+------+----------+---------+\n",
      "|3daee260-c1d9-4cd9-905f-f2900cae37cc|851114|1687170374|1        |\n",
      "|4a0adafa-256b-468e-b0f9-28ac84167320|695431|1687170374|3        |\n",
      "+------------------------------------+------+----------+---------+\n",
      "only showing top 2 rows\n",
      "\n"
     ]
    },
    {
     "name": "stderr",
     "output_type": "stream",
     "text": [
      "23/06/19 17:26:14 WARN HoodieWriteConfig: Embedded timeline server is disabled, fallback to use direct marker type for spark\n",
      "23/06/19 17:26:17 WARN HoodieWriteConfig: Embedded timeline server is disabled, fallback to use direct marker type for spark\n",
      "23/06/19 17:26:20 WARN BaseHoodieCompactionPlanGenerator: No operations are retrieved for s3a://datalake/hudi_mor\n"
     ]
    },
    {
     "name": "stdout",
     "output_type": "stream",
     "text": [
      "--------------------STARTING WRITE HUDI TABLE--------------------\n",
      "--------------------DONE--------------------\n",
      "================== TIME SLEEP ==============\n",
      "====================START GEN DATA====================\n",
      "+------------------------------------+------+----------+---------+\n",
      "|id                                  |value |timestamp |partition|\n",
      "+------------------------------------+------+----------+---------+\n",
      "|f9be3e60-7f5f-47e9-becf-66dded9b17d3|152819|1687170390|3        |\n",
      "|24334454-2d0b-42a9-ab73-ab8ed972a102|925395|1687170390|3        |\n",
      "+------------------------------------+------+----------+---------+\n",
      "only showing top 2 rows\n",
      "\n"
     ]
    },
    {
     "name": "stderr",
     "output_type": "stream",
     "text": [
      "23/06/19 17:26:30 WARN HoodieWriteConfig: Embedded timeline server is disabled, fallback to use direct marker type for spark\n",
      "23/06/19 17:26:33 WARN HoodieWriteConfig: Embedded timeline server is disabled, fallback to use direct marker type for spark\n",
      "23/06/19 17:26:38 WARN BaseHoodieCompactionPlanGenerator: No operations are retrieved for s3a://datalake/hudi_mor\n"
     ]
    },
    {
     "name": "stdout",
     "output_type": "stream",
     "text": [
      "--------------------STARTING WRITE HUDI TABLE--------------------\n",
      "--------------------DONE--------------------\n",
      "================== TIME SLEEP ==============\n",
      "====================START GEN DATA====================\n",
      "+------------------------------------+------+----------+---------+\n",
      "|id                                  |value |timestamp |partition|\n",
      "+------------------------------------+------+----------+---------+\n",
      "|3f1f1bf2-5f01-4216-b1e7-e257ce87d0e0|614375|1687170408|3        |\n",
      "|3f5eddee-57af-4d28-9908-3f41baf138bc|781721|1687170408|3        |\n",
      "+------------------------------------+------+----------+---------+\n",
      "only showing top 2 rows\n",
      "\n"
     ]
    },
    {
     "name": "stderr",
     "output_type": "stream",
     "text": [
      "23/06/19 17:26:49 WARN HoodieWriteConfig: Embedded timeline server is disabled, fallback to use direct marker type for spark\n",
      "23/06/19 17:26:51 WARN HoodieWriteConfig: Embedded timeline server is disabled, fallback to use direct marker type for spark\n",
      "23/06/19 17:26:54 WARN BaseHoodieCompactionPlanGenerator: No operations are retrieved for s3a://datalake/hudi_mor\n"
     ]
    },
    {
     "name": "stdout",
     "output_type": "stream",
     "text": [
      "--------------------STARTING WRITE HUDI TABLE--------------------\n",
      "--------------------DONE--------------------\n",
      "================== TIME SLEEP ==============\n",
      "====================START GEN DATA====================\n",
      "+------------------------------------+------+----------+---------+\n",
      "|id                                  |value |timestamp |partition|\n",
      "+------------------------------------+------+----------+---------+\n",
      "|e6ac43e9-eec3-4721-b769-23123e34cb9c|231187|1687170424|2        |\n",
      "|827827fd-fb3c-439a-abd8-ad9c9ca41482|755249|1687170424|3        |\n",
      "+------------------------------------+------+----------+---------+\n",
      "only showing top 2 rows\n",
      "\n"
     ]
    },
    {
     "name": "stderr",
     "output_type": "stream",
     "text": [
      "23/06/19 17:27:05 WARN HoodieWriteConfig: Embedded timeline server is disabled, fallback to use direct marker type for spark\n",
      "23/06/19 17:27:07 WARN HoodieWriteConfig: Embedded timeline server is disabled, fallback to use direct marker type for spark\n",
      "23/06/19 17:27:11 WARN BaseHoodieCompactionPlanGenerator: No operations are retrieved for s3a://datalake/hudi_mor\n"
     ]
    },
    {
     "name": "stdout",
     "output_type": "stream",
     "text": [
      "--------------------STARTING WRITE HUDI TABLE--------------------\n",
      "--------------------DONE--------------------\n",
      "================== TIME SLEEP ==============\n",
      "====================START GEN DATA====================\n",
      "+------------------------------------+------+----------+---------+\n",
      "|id                                  |value |timestamp |partition|\n",
      "+------------------------------------+------+----------+---------+\n",
      "|a9822a4a-0ec7-4e7e-8a8b-fc6fbfe14226|131111|1687170442|3        |\n",
      "|5d5a3355-4f16-45af-bfd0-e7f3f2d93984|923029|1687170442|3        |\n",
      "+------------------------------------+------+----------+---------+\n",
      "only showing top 2 rows\n",
      "\n"
     ]
    },
    {
     "name": "stderr",
     "output_type": "stream",
     "text": [
      "23/06/19 17:27:22 WARN HoodieWriteConfig: Embedded timeline server is disabled, fallback to use direct marker type for spark\n",
      "23/06/19 17:27:24 WARN HoodieWriteConfig: Embedded timeline server is disabled, fallback to use direct marker type for spark\n",
      "23/06/19 17:27:28 WARN BaseHoodieCompactionPlanGenerator: No operations are retrieved for s3a://datalake/hudi_mor\n"
     ]
    },
    {
     "name": "stdout",
     "output_type": "stream",
     "text": [
      "--------------------STARTING WRITE HUDI TABLE--------------------\n",
      "--------------------DONE--------------------\n",
      "================== TIME SLEEP ==============\n",
      "====================START GEN DATA====================\n",
      "+------------------------------------+------+----------+---------+\n",
      "|id                                  |value |timestamp |partition|\n",
      "+------------------------------------+------+----------+---------+\n",
      "|2507f221-e406-412f-997b-cc22b75a62cd|952835|1687170458|1        |\n",
      "|5aa80f6b-db4d-4200-92f6-e91d6700990c|682834|1687170458|3        |\n",
      "+------------------------------------+------+----------+---------+\n",
      "only showing top 2 rows\n",
      "\n"
     ]
    },
    {
     "name": "stderr",
     "output_type": "stream",
     "text": [
      "23/06/19 17:27:39 WARN HoodieWriteConfig: Embedded timeline server is disabled, fallback to use direct marker type for spark\n",
      "23/06/19 17:27:41 WARN HoodieWriteConfig: Embedded timeline server is disabled, fallback to use direct marker type for spark\n",
      "23/06/19 17:27:44 WARN HoodieWriteConfig: Embedded timeline server is disabled, fallback to use direct marker type for spark\n",
      "23/06/19 17:27:46 WARN BaseHoodieCompactionPlanGenerator: No operations are retrieved for s3a://datalake/hudi_mor\n"
     ]
    },
    {
     "name": "stdout",
     "output_type": "stream",
     "text": [
      "--------------------STARTING WRITE HUDI TABLE--------------------\n",
      "--------------------DONE--------------------\n",
      "================== TIME SLEEP ==============\n",
      "====================START GEN DATA====================\n",
      "+------------------------------------+------+----------+---------+\n",
      "|id                                  |value |timestamp |partition|\n",
      "+------------------------------------+------+----------+---------+\n",
      "|20df2193-9f65-4a86-84c4-e6ba353ebb3d|975558|1687170476|2        |\n",
      "|fd0dd050-9d9f-4ba4-87d8-63866d8bdb72|365408|1687170476|3        |\n",
      "+------------------------------------+------+----------+---------+\n",
      "only showing top 2 rows\n",
      "\n"
     ]
    },
    {
     "name": "stderr",
     "output_type": "stream",
     "text": [
      "23/06/19 17:27:57 WARN HoodieWriteConfig: Embedded timeline server is disabled, fallback to use direct marker type for spark\n",
      "23/06/19 17:27:59 WARN HoodieWriteConfig: Embedded timeline server is disabled, fallback to use direct marker type for spark\n",
      "23/06/19 17:28:02 WARN HoodieWriteConfig: Embedded timeline server is disabled, fallback to use direct marker type for spark\n",
      "23/06/19 17:28:05 WARN BaseHoodieCompactionPlanGenerator: No operations are retrieved for s3a://datalake/hudi_mor\n"
     ]
    },
    {
     "name": "stdout",
     "output_type": "stream",
     "text": [
      "--------------------STARTING WRITE HUDI TABLE--------------------\n",
      "--------------------DONE--------------------\n",
      "================== TIME SLEEP ==============\n"
     ]
    },
    {
     "ename": "KeyboardInterrupt",
     "evalue": "",
     "output_type": "error",
     "traceback": [
      "\u001b[0;31m---------------------------------------------------------------------------\u001b[0m",
      "\u001b[0;31mKeyboardInterrupt\u001b[0m                         Traceback (most recent call last)",
      "Cell \u001b[0;32mIn[8], line 34\u001b[0m\n\u001b[1;32m     31\u001b[0m \u001b[39mprint\u001b[39m(\u001b[39m20\u001b[39m\u001b[39m*\u001b[39m\u001b[39m\"\u001b[39m\u001b[39m-\u001b[39m\u001b[39m\"\u001b[39m \u001b[39m+\u001b[39m \u001b[39m\"\u001b[39m\u001b[39mDONE\u001b[39m\u001b[39m\"\u001b[39m \u001b[39m+\u001b[39m \u001b[39m\"\u001b[39m\u001b[39m-\u001b[39m\u001b[39m\"\u001b[39m\u001b[39m*\u001b[39m\u001b[39m20\u001b[39m)\n\u001b[1;32m     33\u001b[0m \u001b[39mprint\u001b[39m(\u001b[39mf\u001b[39m\u001b[39m\"\u001b[39m\u001b[39m================== TIME SLEEP ==============\u001b[39m\u001b[39m\"\u001b[39m)\n\u001b[0;32m---> 34\u001b[0m time\u001b[39m.\u001b[39;49msleep(\u001b[39m10\u001b[39;49m)\n",
      "\u001b[0;31mKeyboardInterrupt\u001b[0m: "
     ]
    }
   ],
   "source": [
    "def current_timestamp():\n",
    "    current_time = int(time.time())\n",
    "    return current_time\n",
    "\n",
    "def gen_data():\n",
    "    data = []\n",
    "    for i in range(0, 5):\n",
    "        i = uuid.uuid4()\n",
    "        value = random.randint(0, 1000000)\n",
    "        timestamp = current_timestamp()\n",
    "        partition = random.randint(1,3)\n",
    "        x = (str(i), value, timestamp, partition)\n",
    "        data.append(x)\n",
    "    return data\n",
    "\n",
    "while True:\n",
    "    print(\"=\"* 20 + \"START GEN DATA\" + \"=\"*20)\n",
    "    data = gen_data()\n",
    "    stream_df = spark.createDataFrame(data, schema)\n",
    "    # stream_df = stream_df.withColumn(\"timestamp\", current_timestamp())\n",
    "\n",
    "    stream_df.show(n=2, truncate=False)\n",
    "\n",
    "    stream_df.write.format(\"hudi\") \\\n",
    "        .options(**hoodie_options) \\\n",
    "        .mode(\"append\") \\\n",
    "        .save(f\"s3a://datalake/hudi_mor\")\n",
    "\n",
    "    print(20*\"-\" + \"STARTING WRITE HUDI TABLE\" + \"-\"*20)\n",
    "\n",
    "    print(20*\"-\" + \"DONE\" + \"-\"*20)\n",
    "\n",
    "    print(f\"================== TIME SLEEP ==============\")\n",
    "    time.sleep(10)\n",
    "\n"
   ]
  }
 ],
 "metadata": {
  "kernelspec": {
   "display_name": "Python 3",
   "language": "python",
   "name": "python3"
  },
  "language_info": {
   "codemirror_mode": {
    "name": "ipython",
    "version": 3
   },
   "file_extension": ".py",
   "mimetype": "text/x-python",
   "name": "python",
   "nbconvert_exporter": "python",
   "pygments_lexer": "ipython3",
   "version": "3.10.6"
  },
  "orig_nbformat": 4
 },
 "nbformat": 4,
 "nbformat_minor": 2
}
